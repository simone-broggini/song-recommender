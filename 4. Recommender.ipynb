{
 "cells": [
  {
   "cell_type": "markdown",
   "metadata": {
    "id": "fnhh4ayEOKz4"
   },
   "source": [
    "## Loading credentials from another config file"
   ]
  },
  {
   "cell_type": "code",
   "execution_count": 1,
   "metadata": {
    "ExecuteTime": {
     "end_time": "2022-11-23T08:53:19.773334Z",
     "start_time": "2022-11-23T08:53:19.511876Z"
    },
    "colab": {
     "base_uri": "https://localhost:8080/"
    },
    "executionInfo": {
     "elapsed": 23559,
     "status": "ok",
     "timestamp": 1623745938174,
     "user": {
      "displayName": "Ignacio Soteras",
      "photoUrl": "",
      "userId": "02050793736257155229"
     },
     "user_tz": -120
    },
    "id": "5j1kqPOoN_I5",
    "outputId": "23c4b5dd-b94b-425d-e2b9-e5647cb055df"
   },
   "outputs": [],
   "source": [
    "import config\n",
    "import pandas as pd\n",
    "import requests\n",
    "import spotipy\n",
    "import pickle\n",
    "from sklearn.preprocessing import StandardScaler\n",
    "import json\n",
    "from IPython.display import IFrame"
   ]
  },
  {
   "cell_type": "markdown",
   "metadata": {
    "id": "0fpGWmsCOSx0"
   },
   "source": [
    "## Initializing Spotify API"
   ]
  },
  {
   "cell_type": "code",
   "execution_count": 2,
   "metadata": {
    "ExecuteTime": {
     "end_time": "2022-11-23T08:53:27.060562Z",
     "start_time": "2022-11-23T08:53:26.974725Z"
    },
    "colab": {
     "base_uri": "https://localhost:8080/"
    },
    "executionInfo": {
     "elapsed": 313,
     "status": "ok",
     "timestamp": 1623747121467,
     "user": {
      "displayName": "Ignacio Soteras",
      "photoUrl": "",
      "userId": "02050793736257155229"
     },
     "user_tz": -120
    },
    "id": "-0qiqFTZqqE2",
    "outputId": "c532baae-8ff5-4abc-b70e-0bda934d25b1",
    "scrolled": false
   },
   "outputs": [],
   "source": [
    "from spotipy.oauth2 import SpotifyClientCredentials\n",
    "\n",
    "\n",
    "#Initialize SpotiPy with user credentias\n",
    "sp = spotipy.Spotify(auth_manager=SpotifyClientCredentials(client_id= config.client_id,\n",
    "                                                           client_secret= config.client_secret))"
   ]
  },
  {
   "cell_type": "markdown",
   "metadata": {},
   "source": [
    "## Loading the clustered data frame and the respective model"
   ]
  },
  {
   "cell_type": "code",
   "execution_count": 3,
   "metadata": {},
   "outputs": [],
   "source": [
    "#Loading the clustered data frame and the respective model\n",
    "\n",
    "clustered_df = pd.read_csv('Data/lyric_features_b.csv')\n",
    "\n",
    "with open(\"Model/lyric_features_b.pkl\", \"rb\") as f:\n",
    "    scaler, kmeans = pickle.load(f)\n"
   ]
  },
  {
   "cell_type": "code",
   "execution_count": 4,
   "metadata": {},
   "outputs": [
    {
     "data": {
      "text/plain": [
       "7"
      ]
     },
     "execution_count": 4,
     "metadata": {},
     "output_type": "execute_result"
    }
   ],
   "source": [
    "len(clustered_df['cluster'].unique())"
   ]
  },
  {
   "cell_type": "code",
   "execution_count": 5,
   "metadata": {},
   "outputs": [
    {
     "data": {
      "text/plain": [
       "22530.74489996135"
      ]
     },
     "execution_count": 5,
     "metadata": {},
     "output_type": "execute_result"
    }
   ],
   "source": [
    "kmeans.inertia_"
   ]
  },
  {
   "cell_type": "markdown",
   "metadata": {},
   "source": [
    "## Defining functions\n",
    "\n",
    "The recommender consists of 3 steps:\n",
    "\n",
    "1. search(): it lets the user serch a song using sp.search from Spotipy. The top 10 results are presented, and the user is asked to identify the correct song.\n",
    "2. recommend (): the function extracts the audio features from the song selected by the user. It then predicts in which cluster the songs belongs, and provides a random song of the same cluster from the database. \n",
    "3. The resulting recommendation is displayed with an embedded player, using the IFrame library."
   ]
  },
  {
   "cell_type": "code",
   "execution_count": 7,
   "metadata": {},
   "outputs": [],
   "source": [
    "def search():\n",
    "    # Get user input for song name\n",
    "    song_name = input(\"Enter the name of a song: \")\n",
    "\n",
    "    # Use the Spotify search API to find songs matching the user input\n",
    "    results = sp.search(q=song_name, type='track')\n",
    "\n",
    "    # Display the top matching songs to the user\n",
    "    for i, track in enumerate(results['tracks']['items'][:10]):\n",
    "        print(f\"{i+1}. {track['name']} by {track['artists'][0]['name']}\")\n",
    "\n",
    "    # Ask the user to select the song they meant from the list\n",
    "    selected_song = None\n",
    "    while not selected_song:\n",
    "        selection = input(\"Please select the song you meant by number (or type 'exit' to cancel): \")\n",
    "        if selection == 'exit':\n",
    "            return\n",
    "        try:\n",
    "            selected_song = results['tracks']['items'][int(selection)-1]\n",
    "        except:\n",
    "            print(\"Invalid selection, please try again.\")\n",
    "\n",
    "    # Get the track ID of the selected song\n",
    "    track_id = selected_song['id']\n",
    "\n",
    "    # Display the selected song using an embedded player\n",
    "    print(f\"Now playing: {selected_song['name']} by {selected_song['artists'][0]['name']}\")\n",
    "    display(play(track_id))\n",
    "\n",
    "    return(track_id)"
   ]
  },
  {
   "cell_type": "code",
   "execution_count": 8,
   "metadata": {},
   "outputs": [],
   "source": [
    "def recommend(track_id):\n",
    "    # Use the Spotify API to get the audio features for the selected song\n",
    "    audio_features = sp.audio_features(track_id)[0]\n",
    "\n",
    "    # Scale the audio features using the same scaler used to fit the KMeans model\n",
    "    X = pd.DataFrame(audio_features, index=[0], columns=clustered_df.drop(columns=['id', 'cluster']).columns.tolist())\n",
    "    X_scaled = scaler.transform(X)\n",
    "\n",
    "    # Use the KMeans model to predict the cluster for the selected song\n",
    "    cluster = kmeans.predict(X_scaled)[0]\n",
    "\n",
    "    # Filter for songs in the same cluster as the selected song\n",
    "    recommended_songs = clustered_df[clustered_df['cluster'] == cluster]\n",
    "\n",
    "    # Recommend a random song from the list of songs in the same cluster as the selected song\n",
    "    recommended_song_id = recommended_songs.sample()['id'].values[0]\n",
    "\n",
    "    # Get the recommended song name\n",
    "    recommended_song_name = sp.track(recommended_song_id)['name']\n",
    "    recommended_artist_name = sp.track(recommended_song_id)['artists'][0]['name']\n",
    "\n",
    "    \n",
    "    # Display the recommended song using an embedded player\n",
    "    print(f\"We recommend '{recommended_song_name}' by {recommended_artist_name} based on your selection of '{sp.track(track_id)['name']}'\")\n",
    "    display(play(recommended_song_id))\n",
    "\n",
    "    # Ask the user if they want more recommendations\n",
    "    while True:\n",
    "        choice = input(\"Would you like more recommendations? (y/n) \")\n",
    "        if choice == \"y\":\n",
    "            recommend(track_id)\n",
    "            break\n",
    "        elif choice == \"n\":\n",
    "            break\n",
    "        else:\n",
    "            print(\"Invalid input. Please enter 'y' or 'n'.\")"
   ]
  },
  {
   "cell_type": "code",
   "execution_count": 6,
   "metadata": {},
   "outputs": [],
   "source": [
    "def play(track_id):\n",
    "    return IFrame(src=\"https://open.spotify.com/embed/track/\"+track_id,\n",
    "       width=\"320\",\n",
    "       height=\"80\",\n",
    "       frameborder=\"0\",\n",
    "       allowtransparency=\"true\",\n",
    "       allow=\"encrypted-media\",\n",
    "      )"
   ]
  },
  {
   "cell_type": "markdown",
   "metadata": {},
   "source": [
    "## Running the code\n",
    "\n",
    "Let's experiment and evaluate the responses. "
   ]
  },
  {
   "cell_type": "code",
   "execution_count": 9,
   "metadata": {},
   "outputs": [
    {
     "name": "stdout",
     "output_type": "stream",
     "text": [
      "Enter the name of a song: diamonds\n",
      "1. Diamonds by Rihanna\n",
      "2. Diamonds by Chris Travis\n",
      "3. Diamonds & Gasoline by Turnpike Troubadours\n",
      "4. Bubblegum Bitch by MARINA\n",
      "5. Diamonds From Sierra Leone - Remix by Kanye West\n",
      "6. Diamonds Dancing (feat. Travis Scott) by Young Stoner Life\n",
      "7. Diamonds by Sam Smith\n",
      "8. Ghost by Ava Max\n",
      "9. Diamonds - Remix by Rihanna\n",
      "10. Diamonds by Bas\n",
      "Please select the song you meant by number (or type 'exit' to cancel): 1\n",
      "Now playing: Diamonds by Rihanna\n"
     ]
    },
    {
     "data": {
      "text/html": [
       "\n",
       "        <iframe\n",
       "            width=\"320\"\n",
       "            height=\"80\"\n",
       "            src=\"https://open.spotify.com/embed/track/1z9kQ14XBSN0r2v6fx4IdG?frameborder=0&allowtransparency=true&allow=encrypted-media\"\n",
       "            frameborder=\"0\"\n",
       "            allowfullscreen\n",
       "            \n",
       "        ></iframe>\n",
       "        "
      ],
      "text/plain": [
       "<IPython.lib.display.IFrame at 0x11ea33400>"
      ]
     },
     "metadata": {},
     "output_type": "display_data"
    },
    {
     "name": "stderr",
     "output_type": "stream",
     "text": [
      "/opt/anaconda3/lib/python3.9/site-packages/sklearn/base.py:450: UserWarning: X does not have valid feature names, but KMeans was fitted with feature names\n",
      "  warnings.warn(\n"
     ]
    },
    {
     "name": "stdout",
     "output_type": "stream",
     "text": [
      "We recommend 'Real Love' by Dillon Francis based on your selection of 'Diamonds'\n"
     ]
    },
    {
     "data": {
      "text/html": [
       "\n",
       "        <iframe\n",
       "            width=\"320\"\n",
       "            height=\"80\"\n",
       "            src=\"https://open.spotify.com/embed/track/4Juaa2ppIOYcSWbrVtcrNp?frameborder=0&allowtransparency=true&allow=encrypted-media\"\n",
       "            frameborder=\"0\"\n",
       "            allowfullscreen\n",
       "            \n",
       "        ></iframe>\n",
       "        "
      ],
      "text/plain": [
       "<IPython.lib.display.IFrame at 0x11ea338b0>"
      ]
     },
     "metadata": {},
     "output_type": "display_data"
    },
    {
     "name": "stdout",
     "output_type": "stream",
     "text": [
      "Would you like more recommendations? (y/n) y\n"
     ]
    },
    {
     "name": "stderr",
     "output_type": "stream",
     "text": [
      "/opt/anaconda3/lib/python3.9/site-packages/sklearn/base.py:450: UserWarning: X does not have valid feature names, but KMeans was fitted with feature names\n",
      "  warnings.warn(\n"
     ]
    },
    {
     "name": "stdout",
     "output_type": "stream",
     "text": [
      "We recommend 'Lionheart (Fearless)' by Joel Corry based on your selection of 'Diamonds'\n"
     ]
    },
    {
     "data": {
      "text/html": [
       "\n",
       "        <iframe\n",
       "            width=\"320\"\n",
       "            height=\"80\"\n",
       "            src=\"https://open.spotify.com/embed/track/5vlzH0ps6WDyb158oFTAb3?frameborder=0&allowtransparency=true&allow=encrypted-media\"\n",
       "            frameborder=\"0\"\n",
       "            allowfullscreen\n",
       "            \n",
       "        ></iframe>\n",
       "        "
      ],
      "text/plain": [
       "<IPython.lib.display.IFrame at 0x11eb0dcd0>"
      ]
     },
     "metadata": {},
     "output_type": "display_data"
    },
    {
     "name": "stdout",
     "output_type": "stream",
     "text": [
      "Would you like more recommendations? (y/n) y\n"
     ]
    },
    {
     "name": "stderr",
     "output_type": "stream",
     "text": [
      "/opt/anaconda3/lib/python3.9/site-packages/sklearn/base.py:450: UserWarning: X does not have valid feature names, but KMeans was fitted with feature names\n",
      "  warnings.warn(\n"
     ]
    },
    {
     "name": "stdout",
     "output_type": "stream",
     "text": [
      "We recommend 'Closer' by Aevion based on your selection of 'Diamonds'\n"
     ]
    },
    {
     "data": {
      "text/html": [
       "\n",
       "        <iframe\n",
       "            width=\"320\"\n",
       "            height=\"80\"\n",
       "            src=\"https://open.spotify.com/embed/track/5s3UTdgdjBnkRKmPeBEnyk?frameborder=0&allowtransparency=true&allow=encrypted-media\"\n",
       "            frameborder=\"0\"\n",
       "            allowfullscreen\n",
       "            \n",
       "        ></iframe>\n",
       "        "
      ],
      "text/plain": [
       "<IPython.lib.display.IFrame at 0x11eb0da60>"
      ]
     },
     "metadata": {},
     "output_type": "display_data"
    },
    {
     "name": "stdout",
     "output_type": "stream",
     "text": [
      "Would you like more recommendations? (y/n) n\n"
     ]
    }
   ],
   "source": [
    "recommend(search())"
   ]
  },
  {
   "cell_type": "code",
   "execution_count": null,
   "metadata": {},
   "outputs": [],
   "source": []
  }
 ],
 "metadata": {
  "colab": {
   "authorship_tag": "ABX9TyPVWC1t3Am5oxfsHrz0cF36",
   "mount_file_id": "1f3HsS5F0GzS75tlHyrwhBGlTWbE0nG4o",
   "name": "Code_along_Spotify_structure.ipynb",
   "provenance": []
  },
  "kernelspec": {
   "display_name": "Python 3 (ipykernel)",
   "language": "python",
   "name": "python3"
  },
  "language_info": {
   "codemirror_mode": {
    "name": "ipython",
    "version": 3
   },
   "file_extension": ".py",
   "mimetype": "text/x-python",
   "name": "python",
   "nbconvert_exporter": "python",
   "pygments_lexer": "ipython3",
   "version": "3.9.13"
  },
  "toc": {
   "base_numbering": 1,
   "nav_menu": {},
   "number_sections": true,
   "sideBar": true,
   "skip_h1_title": false,
   "title_cell": "Table of Contents",
   "title_sidebar": "Contents",
   "toc_cell": false,
   "toc_position": {},
   "toc_section_display": true,
   "toc_window_display": false
  },
  "varInspector": {
   "cols": {
    "lenName": 16,
    "lenType": 16,
    "lenVar": 40
   },
   "kernels_config": {
    "python": {
     "delete_cmd_postfix": "",
     "delete_cmd_prefix": "del ",
     "library": "var_list.py",
     "varRefreshCmd": "print(var_dic_list())"
    },
    "r": {
     "delete_cmd_postfix": ") ",
     "delete_cmd_prefix": "rm(",
     "library": "var_list.r",
     "varRefreshCmd": "cat(var_dic_list()) "
    }
   },
   "types_to_exclude": [
    "module",
    "function",
    "builtin_function_or_method",
    "instance",
    "_Feature"
   ],
   "window_display": false
  }
 },
 "nbformat": 4,
 "nbformat_minor": 1
}
