{
 "cells": [
  {
   "cell_type": "markdown",
   "metadata": {
    "id": "ZcSGgeMpeAgy"
   },
   "source": [
    "## Importing libraries"
   ]
  },
  {
   "cell_type": "code",
   "execution_count": 22,
   "metadata": {
    "executionInfo": {
     "elapsed": 1543,
     "status": "ok",
     "timestamp": 1623846916468,
     "user": {
      "displayName": "Ignacio Soteras",
      "photoUrl": "",
      "userId": "02050793736257155229"
     },
     "user_tz": -120
    },
    "id": "MVmBiWjsd2Xd"
   },
   "outputs": [],
   "source": [
    "import numpy as np\n",
    "import pandas as pd\n",
    "import pickle\n",
    "from sklearn import datasets # sklearn comes with some toy datasets to practise\n",
    "from sklearn.preprocessing import StandardScaler\n",
    "from sklearn.cluster import KMeans\n",
    "from matplotlib import pyplot\n",
    "import matplotlib.pyplot as plt\n",
    "from sklearn.metrics import silhouette_score\n",
    "from sklearn.decomposition import PCA"
   ]
  },
  {
   "cell_type": "markdown",
   "metadata": {
    "id": "p-MFU-2neT38"
   },
   "source": [
    "## Loading the cleaned dataset"
   ]
  },
  {
   "cell_type": "code",
   "execution_count": 23,
   "metadata": {},
   "outputs": [],
   "source": [
    "df = pd.read_csv('Data/df_cleaned.csv')"
   ]
  },
  {
   "cell_type": "code",
   "execution_count": 24,
   "metadata": {},
   "outputs": [
    {
     "data": {
      "text/html": [
       "<div>\n",
       "<style scoped>\n",
       "    .dataframe tbody tr th:only-of-type {\n",
       "        vertical-align: middle;\n",
       "    }\n",
       "\n",
       "    .dataframe tbody tr th {\n",
       "        vertical-align: top;\n",
       "    }\n",
       "\n",
       "    .dataframe thead th {\n",
       "        text-align: right;\n",
       "    }\n",
       "</style>\n",
       "<table border=\"1\" class=\"dataframe\">\n",
       "  <thead>\n",
       "    <tr style=\"text-align: right;\">\n",
       "      <th></th>\n",
       "      <th>danceability</th>\n",
       "      <th>energy</th>\n",
       "      <th>key</th>\n",
       "      <th>loudness</th>\n",
       "      <th>mode</th>\n",
       "      <th>speechiness</th>\n",
       "      <th>acousticness</th>\n",
       "      <th>instrumentalness</th>\n",
       "      <th>liveness</th>\n",
       "      <th>valence</th>\n",
       "      <th>tempo</th>\n",
       "      <th>id</th>\n",
       "      <th>duration_ms</th>\n",
       "      <th>time_signature</th>\n",
       "    </tr>\n",
       "  </thead>\n",
       "  <tbody>\n",
       "    <tr>\n",
       "      <th>0</th>\n",
       "      <td>0.696</td>\n",
       "      <td>0.8090</td>\n",
       "      <td>5</td>\n",
       "      <td>-8.254</td>\n",
       "      <td>1</td>\n",
       "      <td>0.0500</td>\n",
       "      <td>0.2520</td>\n",
       "      <td>0.000128</td>\n",
       "      <td>0.2480</td>\n",
       "      <td>0.8570</td>\n",
       "      <td>132.962</td>\n",
       "      <td>6AQbmUe0Qwf5PZnt4HmTXv</td>\n",
       "      <td>131013</td>\n",
       "      <td>4</td>\n",
       "    </tr>\n",
       "    <tr>\n",
       "      <th>1</th>\n",
       "      <td>0.707</td>\n",
       "      <td>0.6810</td>\n",
       "      <td>0</td>\n",
       "      <td>-4.325</td>\n",
       "      <td>1</td>\n",
       "      <td>0.0668</td>\n",
       "      <td>0.0632</td>\n",
       "      <td>0.000005</td>\n",
       "      <td>0.0322</td>\n",
       "      <td>0.6460</td>\n",
       "      <td>117.999</td>\n",
       "      <td>0yLdNVWF3Srea0uzk55zFn</td>\n",
       "      <td>200455</td>\n",
       "      <td>4</td>\n",
       "    </tr>\n",
       "    <tr>\n",
       "      <th>2</th>\n",
       "      <td>0.644</td>\n",
       "      <td>0.7350</td>\n",
       "      <td>8</td>\n",
       "      <td>-5.747</td>\n",
       "      <td>1</td>\n",
       "      <td>0.0391</td>\n",
       "      <td>0.0521</td>\n",
       "      <td>0.144000</td>\n",
       "      <td>0.1610</td>\n",
       "      <td>0.4180</td>\n",
       "      <td>88.980</td>\n",
       "      <td>1Qrg8KqiBpW07V7PNxwwwL</td>\n",
       "      <td>153947</td>\n",
       "      <td>4</td>\n",
       "    </tr>\n",
       "    <tr>\n",
       "      <th>3</th>\n",
       "      <td>0.538</td>\n",
       "      <td>0.7420</td>\n",
       "      <td>2</td>\n",
       "      <td>-5.355</td>\n",
       "      <td>1</td>\n",
       "      <td>0.1140</td>\n",
       "      <td>0.1380</td>\n",
       "      <td>0.000047</td>\n",
       "      <td>0.0934</td>\n",
       "      <td>0.2500</td>\n",
       "      <td>96.107</td>\n",
       "      <td>5Z2MiIZ5I3jJvvmeWMLbOQ</td>\n",
       "      <td>272373</td>\n",
       "      <td>4</td>\n",
       "    </tr>\n",
       "    <tr>\n",
       "      <th>4</th>\n",
       "      <td>0.715</td>\n",
       "      <td>0.6200</td>\n",
       "      <td>1</td>\n",
       "      <td>-6.005</td>\n",
       "      <td>0</td>\n",
       "      <td>0.0484</td>\n",
       "      <td>0.4170</td>\n",
       "      <td>0.000000</td>\n",
       "      <td>0.0822</td>\n",
       "      <td>0.1720</td>\n",
       "      <td>97.950</td>\n",
       "      <td>2dHHgzDwk4BJdRwy9uXhTO</td>\n",
       "      <td>221520</td>\n",
       "      <td>4</td>\n",
       "    </tr>\n",
       "    <tr>\n",
       "      <th>...</th>\n",
       "      <td>...</td>\n",
       "      <td>...</td>\n",
       "      <td>...</td>\n",
       "      <td>...</td>\n",
       "      <td>...</td>\n",
       "      <td>...</td>\n",
       "      <td>...</td>\n",
       "      <td>...</td>\n",
       "      <td>...</td>\n",
       "      <td>...</td>\n",
       "      <td>...</td>\n",
       "      <td>...</td>\n",
       "      <td>...</td>\n",
       "      <td>...</td>\n",
       "    </tr>\n",
       "    <tr>\n",
       "      <th>13052</th>\n",
       "      <td>0.261</td>\n",
       "      <td>0.0585</td>\n",
       "      <td>5</td>\n",
       "      <td>-22.054</td>\n",
       "      <td>0</td>\n",
       "      <td>0.0473</td>\n",
       "      <td>0.9870</td>\n",
       "      <td>0.872000</td>\n",
       "      <td>0.0887</td>\n",
       "      <td>0.1380</td>\n",
       "      <td>67.242</td>\n",
       "      <td>2IAnU53rak76TpGpA515Xl</td>\n",
       "      <td>439213</td>\n",
       "      <td>4</td>\n",
       "    </tr>\n",
       "    <tr>\n",
       "      <th>13053</th>\n",
       "      <td>0.322</td>\n",
       "      <td>0.1290</td>\n",
       "      <td>1</td>\n",
       "      <td>-20.671</td>\n",
       "      <td>1</td>\n",
       "      <td>0.0437</td>\n",
       "      <td>0.9920</td>\n",
       "      <td>0.003620</td>\n",
       "      <td>0.1010</td>\n",
       "      <td>0.0449</td>\n",
       "      <td>129.018</td>\n",
       "      <td>4zPZbj1sNxCOtU1CdgCK53</td>\n",
       "      <td>260187</td>\n",
       "      <td>4</td>\n",
       "    </tr>\n",
       "    <tr>\n",
       "      <th>13054</th>\n",
       "      <td>0.311</td>\n",
       "      <td>0.1580</td>\n",
       "      <td>10</td>\n",
       "      <td>-16.724</td>\n",
       "      <td>1</td>\n",
       "      <td>0.0380</td>\n",
       "      <td>0.9690</td>\n",
       "      <td>0.901000</td>\n",
       "      <td>0.2400</td>\n",
       "      <td>0.1700</td>\n",
       "      <td>96.367</td>\n",
       "      <td>2qYu0I9yKKpGnbySmN6w3K</td>\n",
       "      <td>427653</td>\n",
       "      <td>4</td>\n",
       "    </tr>\n",
       "    <tr>\n",
       "      <th>13055</th>\n",
       "      <td>0.456</td>\n",
       "      <td>0.1090</td>\n",
       "      <td>10</td>\n",
       "      <td>-20.268</td>\n",
       "      <td>1</td>\n",
       "      <td>0.0604</td>\n",
       "      <td>0.9940</td>\n",
       "      <td>0.000266</td>\n",
       "      <td>0.0836</td>\n",
       "      <td>0.2400</td>\n",
       "      <td>68.848</td>\n",
       "      <td>1xU1yjwGAGCCE3RiB8YKLe</td>\n",
       "      <td>201640</td>\n",
       "      <td>5</td>\n",
       "    </tr>\n",
       "    <tr>\n",
       "      <th>13056</th>\n",
       "      <td>0.362</td>\n",
       "      <td>0.0617</td>\n",
       "      <td>7</td>\n",
       "      <td>-24.588</td>\n",
       "      <td>1</td>\n",
       "      <td>0.0379</td>\n",
       "      <td>0.9910</td>\n",
       "      <td>0.916000</td>\n",
       "      <td>0.1710</td>\n",
       "      <td>0.3920</td>\n",
       "      <td>93.635</td>\n",
       "      <td>4j8lYY8CxTPkY2DLLQT4hy</td>\n",
       "      <td>234987</td>\n",
       "      <td>4</td>\n",
       "    </tr>\n",
       "  </tbody>\n",
       "</table>\n",
       "<p>13057 rows × 14 columns</p>\n",
       "</div>"
      ],
      "text/plain": [
       "       danceability  energy  key  loudness  mode  speechiness  acousticness  \\\n",
       "0             0.696  0.8090    5    -8.254     1       0.0500        0.2520   \n",
       "1             0.707  0.6810    0    -4.325     1       0.0668        0.0632   \n",
       "2             0.644  0.7350    8    -5.747     1       0.0391        0.0521   \n",
       "3             0.538  0.7420    2    -5.355     1       0.1140        0.1380   \n",
       "4             0.715  0.6200    1    -6.005     0       0.0484        0.4170   \n",
       "...             ...     ...  ...       ...   ...          ...           ...   \n",
       "13052         0.261  0.0585    5   -22.054     0       0.0473        0.9870   \n",
       "13053         0.322  0.1290    1   -20.671     1       0.0437        0.9920   \n",
       "13054         0.311  0.1580   10   -16.724     1       0.0380        0.9690   \n",
       "13055         0.456  0.1090   10   -20.268     1       0.0604        0.9940   \n",
       "13056         0.362  0.0617    7   -24.588     1       0.0379        0.9910   \n",
       "\n",
       "       instrumentalness  liveness  valence    tempo                      id  \\\n",
       "0              0.000128    0.2480   0.8570  132.962  6AQbmUe0Qwf5PZnt4HmTXv   \n",
       "1              0.000005    0.0322   0.6460  117.999  0yLdNVWF3Srea0uzk55zFn   \n",
       "2              0.144000    0.1610   0.4180   88.980  1Qrg8KqiBpW07V7PNxwwwL   \n",
       "3              0.000047    0.0934   0.2500   96.107  5Z2MiIZ5I3jJvvmeWMLbOQ   \n",
       "4              0.000000    0.0822   0.1720   97.950  2dHHgzDwk4BJdRwy9uXhTO   \n",
       "...                 ...       ...      ...      ...                     ...   \n",
       "13052          0.872000    0.0887   0.1380   67.242  2IAnU53rak76TpGpA515Xl   \n",
       "13053          0.003620    0.1010   0.0449  129.018  4zPZbj1sNxCOtU1CdgCK53   \n",
       "13054          0.901000    0.2400   0.1700   96.367  2qYu0I9yKKpGnbySmN6w3K   \n",
       "13055          0.000266    0.0836   0.2400   68.848  1xU1yjwGAGCCE3RiB8YKLe   \n",
       "13056          0.916000    0.1710   0.3920   93.635  4j8lYY8CxTPkY2DLLQT4hy   \n",
       "\n",
       "       duration_ms  time_signature  \n",
       "0           131013               4  \n",
       "1           200455               4  \n",
       "2           153947               4  \n",
       "3           272373               4  \n",
       "4           221520               4  \n",
       "...            ...             ...  \n",
       "13052       439213               4  \n",
       "13053       260187               4  \n",
       "13054       427653               4  \n",
       "13055       201640               5  \n",
       "13056       234987               4  \n",
       "\n",
       "[13057 rows x 14 columns]"
      ]
     },
     "execution_count": 24,
     "metadata": {},
     "output_type": "execute_result"
    }
   ],
   "source": [
    "df"
   ]
  },
  {
   "cell_type": "code",
   "execution_count": 25,
   "metadata": {},
   "outputs": [],
   "source": [
    "from sklearn.decomposition import PCA\n",
    "from sklearn.preprocessing import StandardScaler\n",
    "\n",
    "# assume df is your dataframe with all features\n",
    "X = df.drop(columns=['id'])\n",
    "\n",
    "# standardize features\n",
    "scaler = StandardScaler()\n",
    "X_scaled = scaler.fit_transform(X)\n",
    "\n",
    "# perform PCA\n",
    "pca = PCA()\n",
    "pca.fit(X_scaled)\n",
    "\n",
    "# calculate explained variance ratio for each principal component\n",
    "explained_variances = pca.explained_variance_ratio_\n",
    "\n",
    "# choose number of principal components to keep based on explained variance\n",
    "total_var = 0.0\n",
    "n_components = 0\n",
    "for i, explained_var in enumerate(explained_variances):\n",
    "    total_var += explained_var\n",
    "    if total_var >= 0.75:\n",
    "        n_components = i + 1\n",
    "        break\n",
    "\n",
    "# fit PCA with chosen number of components\n",
    "pca = PCA(n_components=n_components)\n",
    "X_pca = pca.fit_transform(X_scaled)\n",
    "\n",
    "# extract feature names corresponding to selected principal components\n",
    "pc_names = []\n",
    "for i in range(n_components):\n",
    "    pc_names.append('PC{}'.format(i+1))\n",
    "    \n",
    "# create new dataframe with selected principal components\n",
    "df_pca = pd.DataFrame(data=X_pca, columns=pc_names)\n",
    "\n",
    "# join id column back to the dataframe\n",
    "#df_pca['id'] = df['id']"
   ]
  },
  {
   "cell_type": "markdown",
   "metadata": {
    "id": "jKnoCN1MgG6B"
   },
   "source": [
    "## Scaling features"
   ]
  },
  {
   "cell_type": "code",
   "execution_count": 26,
   "metadata": {},
   "outputs": [],
   "source": [
    "X = df_pca"
   ]
  },
  {
   "cell_type": "code",
   "execution_count": 27,
   "metadata": {
    "colab": {
     "base_uri": "https://localhost:8080/",
     "height": 319
    },
    "executionInfo": {
     "elapsed": 226,
     "status": "ok",
     "timestamp": 1623847356617,
     "user": {
      "displayName": "Ignacio Soteras",
      "photoUrl": "",
      "userId": "02050793736257155229"
     },
     "user_tz": -120
    },
    "id": "HwrUhwwcgRkP",
    "outputId": "006111e0-116d-4087-aaca-88219c7567de"
   },
   "outputs": [
    {
     "data": {
      "text/html": [
       "<div>\n",
       "<style scoped>\n",
       "    .dataframe tbody tr th:only-of-type {\n",
       "        vertical-align: middle;\n",
       "    }\n",
       "\n",
       "    .dataframe tbody tr th {\n",
       "        vertical-align: top;\n",
       "    }\n",
       "\n",
       "    .dataframe thead th {\n",
       "        text-align: right;\n",
       "    }\n",
       "</style>\n",
       "<table border=\"1\" class=\"dataframe\">\n",
       "  <thead>\n",
       "    <tr style=\"text-align: right;\">\n",
       "      <th></th>\n",
       "      <th>PC1</th>\n",
       "      <th>PC2</th>\n",
       "      <th>PC3</th>\n",
       "      <th>PC4</th>\n",
       "      <th>PC5</th>\n",
       "      <th>PC6</th>\n",
       "      <th>PC7</th>\n",
       "    </tr>\n",
       "  </thead>\n",
       "  <tbody>\n",
       "    <tr>\n",
       "      <th>0</th>\n",
       "      <td>-1.629216</td>\n",
       "      <td>-1.122566</td>\n",
       "      <td>-0.101448</td>\n",
       "      <td>-0.068943</td>\n",
       "      <td>-0.540188</td>\n",
       "      <td>-0.769669</td>\n",
       "      <td>-0.392317</td>\n",
       "    </tr>\n",
       "    <tr>\n",
       "      <th>1</th>\n",
       "      <td>-1.304756</td>\n",
       "      <td>-1.937348</td>\n",
       "      <td>-0.229264</td>\n",
       "      <td>0.840805</td>\n",
       "      <td>-0.174214</td>\n",
       "      <td>0.626416</td>\n",
       "      <td>0.402613</td>\n",
       "    </tr>\n",
       "    <tr>\n",
       "      <th>2</th>\n",
       "      <td>-0.818483</td>\n",
       "      <td>-0.334724</td>\n",
       "      <td>-0.398163</td>\n",
       "      <td>0.487172</td>\n",
       "      <td>-0.178747</td>\n",
       "      <td>-1.206988</td>\n",
       "      <td>-0.028667</td>\n",
       "    </tr>\n",
       "    <tr>\n",
       "      <th>3</th>\n",
       "      <td>-0.380136</td>\n",
       "      <td>-1.036660</td>\n",
       "      <td>0.331315</td>\n",
       "      <td>0.381882</td>\n",
       "      <td>0.658061</td>\n",
       "      <td>0.351037</td>\n",
       "      <td>0.346768</td>\n",
       "    </tr>\n",
       "    <tr>\n",
       "      <th>4</th>\n",
       "      <td>-0.142262</td>\n",
       "      <td>-0.211496</td>\n",
       "      <td>-0.771333</td>\n",
       "      <td>0.525466</td>\n",
       "      <td>0.528525</td>\n",
       "      <td>0.771146</td>\n",
       "      <td>1.580369</td>\n",
       "    </tr>\n",
       "    <tr>\n",
       "      <th>...</th>\n",
       "      <td>...</td>\n",
       "      <td>...</td>\n",
       "      <td>...</td>\n",
       "      <td>...</td>\n",
       "      <td>...</td>\n",
       "      <td>...</td>\n",
       "      <td>...</td>\n",
       "    </tr>\n",
       "    <tr>\n",
       "      <th>13052</th>\n",
       "      <td>4.487711</td>\n",
       "      <td>1.043491</td>\n",
       "      <td>-1.013480</td>\n",
       "      <td>0.744786</td>\n",
       "      <td>1.421058</td>\n",
       "      <td>0.151561</td>\n",
       "      <td>0.557991</td>\n",
       "    </tr>\n",
       "    <tr>\n",
       "      <th>13053</th>\n",
       "      <td>3.020417</td>\n",
       "      <td>-1.251000</td>\n",
       "      <td>0.673516</td>\n",
       "      <td>-0.207482</td>\n",
       "      <td>0.004399</td>\n",
       "      <td>0.633812</td>\n",
       "      <td>-0.584162</td>\n",
       "    </tr>\n",
       "    <tr>\n",
       "      <th>13054</th>\n",
       "      <td>3.669395</td>\n",
       "      <td>0.941875</td>\n",
       "      <td>0.239954</td>\n",
       "      <td>0.454024</td>\n",
       "      <td>0.805603</td>\n",
       "      <td>-1.067151</td>\n",
       "      <td>-1.216910</td>\n",
       "    </tr>\n",
       "    <tr>\n",
       "      <th>13055</th>\n",
       "      <td>2.335792</td>\n",
       "      <td>-0.551990</td>\n",
       "      <td>-1.789112</td>\n",
       "      <td>0.564206</td>\n",
       "      <td>1.269310</td>\n",
       "      <td>-1.576918</td>\n",
       "      <td>-2.194097</td>\n",
       "    </tr>\n",
       "    <tr>\n",
       "      <th>13056</th>\n",
       "      <td>3.794851</td>\n",
       "      <td>-0.302302</td>\n",
       "      <td>-0.694006</td>\n",
       "      <td>0.018635</td>\n",
       "      <td>0.258494</td>\n",
       "      <td>-0.731020</td>\n",
       "      <td>-1.034724</td>\n",
       "    </tr>\n",
       "  </tbody>\n",
       "</table>\n",
       "<p>13057 rows × 7 columns</p>\n",
       "</div>"
      ],
      "text/plain": [
       "            PC1       PC2       PC3       PC4       PC5       PC6       PC7\n",
       "0     -1.629216 -1.122566 -0.101448 -0.068943 -0.540188 -0.769669 -0.392317\n",
       "1     -1.304756 -1.937348 -0.229264  0.840805 -0.174214  0.626416  0.402613\n",
       "2     -0.818483 -0.334724 -0.398163  0.487172 -0.178747 -1.206988 -0.028667\n",
       "3     -0.380136 -1.036660  0.331315  0.381882  0.658061  0.351037  0.346768\n",
       "4     -0.142262 -0.211496 -0.771333  0.525466  0.528525  0.771146  1.580369\n",
       "...         ...       ...       ...       ...       ...       ...       ...\n",
       "13052  4.487711  1.043491 -1.013480  0.744786  1.421058  0.151561  0.557991\n",
       "13053  3.020417 -1.251000  0.673516 -0.207482  0.004399  0.633812 -0.584162\n",
       "13054  3.669395  0.941875  0.239954  0.454024  0.805603 -1.067151 -1.216910\n",
       "13055  2.335792 -0.551990 -1.789112  0.564206  1.269310 -1.576918 -2.194097\n",
       "13056  3.794851 -0.302302 -0.694006  0.018635  0.258494 -0.731020 -1.034724\n",
       "\n",
       "[13057 rows x 7 columns]"
      ]
     },
     "execution_count": 27,
     "metadata": {},
     "output_type": "execute_result"
    }
   ],
   "source": [
    "X"
   ]
  },
  {
   "cell_type": "markdown",
   "metadata": {
    "id": "77b-H29dnlLP"
   },
   "source": [
    "## Chosing K"
   ]
  },
  {
   "cell_type": "markdown",
   "metadata": {
    "id": "shXQmFxLpVU8"
   },
   "source": [
    "## Silouhette"
   ]
  },
  {
   "cell_type": "code",
   "execution_count": 28,
   "metadata": {
    "colab": {
     "base_uri": "https://localhost:8080/",
     "height": 530
    },
    "executionInfo": {
     "elapsed": 2352,
     "status": "ok",
     "timestamp": 1623849582213,
     "user": {
      "displayName": "Ignacio Soteras",
      "photoUrl": "",
      "userId": "02050793736257155229"
     },
     "user_tz": -120
    },
    "id": "c4qvvkaOvqjr",
    "outputId": "96b4dea1-2977-4916-c92c-d9090a6886aa"
   },
   "outputs": [
    {
     "name": "stdout",
     "output_type": "stream",
     "text": [
      "Training a K-Means model with 2 clusters! \n",
      "\n",
      "Training a K-Means model with 3 clusters! \n",
      "\n",
      "Training a K-Means model with 4 clusters! \n",
      "\n",
      "Training a K-Means model with 5 clusters! \n",
      "\n",
      "Training a K-Means model with 6 clusters! \n",
      "\n",
      "Training a K-Means model with 7 clusters! \n",
      "\n",
      "Training a K-Means model with 8 clusters! \n",
      "\n",
      "Training a K-Means model with 9 clusters! \n",
      "\n",
      "Training a K-Means model with 10 clusters! \n",
      "\n",
      "Training a K-Means model with 11 clusters! \n",
      "\n",
      "Training a K-Means model with 12 clusters! \n",
      "\n",
      "Training a K-Means model with 13 clusters! \n",
      "\n",
      "Training a K-Means model with 14 clusters! \n",
      "\n",
      "Training a K-Means model with 15 clusters! \n",
      "\n",
      "Training a K-Means model with 16 clusters! \n",
      "\n",
      "Training a K-Means model with 17 clusters! \n",
      "\n",
      "Training a K-Means model with 18 clusters! \n",
      "\n",
      "Training a K-Means model with 19 clusters! \n",
      "\n",
      "Training a K-Means model with 20 clusters! \n",
      "\n",
      "Training a K-Means model with 21 clusters! \n",
      "\n"
     ]
    },
    {
     "data": {
      "text/plain": [
       "Text(0.5, 1.0, 'Silhouette Method showing the optimal k')"
      ]
     },
     "execution_count": 28,
     "metadata": {},
     "output_type": "execute_result"
    },
    {
     "data": {
      "image/png": "[encoded data removed]",
      "text/plain": [
       "<Figure size 1600x800 with 1 Axes>"
      ]
     },
     "metadata": {},
     "output_type": "display_data"
    }
   ],
   "source": [
    "K = range(2, 22)\n",
    "silhouette = []\n",
    "\n",
    "for k in K:\n",
    "    print(\"Training a K-Means model with {} clusters! \".format(k))\n",
    "    print()\n",
    "    kmeans = KMeans(n_clusters=k,\n",
    "                    random_state=1234)\n",
    "    kmeans.fit(X)\n",
    "    \n",
    "    filename = \"Model/kmeans_\" + str(k) + \".pickle\"\n",
    "    with open(filename, \"wb\") as f:\n",
    "        pickle.dump(kmeans,f)\n",
    "    \n",
    "    silhouette.append(silhouette_score(X, kmeans.predict(X)))\n",
    "\n",
    "\n",
    "plt.figure(figsize=(16,8))\n",
    "plt.plot(K, silhouette, 'bx-')\n",
    "plt.xlabel('k')\n",
    "plt.ylabel('silhouette score')\n",
    "plt.xticks(np.arange(min(K), max(K)+1, 1.0))\n",
    "plt.title('Silhouette Method showing the optimal k')"
   ]
  },
  {
   "cell_type": "markdown",
   "metadata": {
    "id": "TmE9ES1EwPhL"
   },
   "source": [
    "The greater the Silouhette, the greater the separation between the clusters, In other words, the clusters will be more defined."
   ]
  },
  {
   "cell_type": "markdown",
   "metadata": {
    "id": "W8zgKxQKhBUr"
   },
   "source": [
    "## Clustering the songs with K-Means"
   ]
  },
  {
   "cell_type": "code",
   "execution_count": 43,
   "metadata": {
    "colab": {
     "base_uri": "https://localhost:8080/"
    },
    "executionInfo": {
     "elapsed": 208,
     "status": "ok",
     "timestamp": 1623848315608,
     "user": {
      "displayName": "Ignacio Soteras",
      "photoUrl": "",
      "userId": "02050793736257155229"
     },
     "user_tz": -120
    },
    "id": "qS4o_tT1hGAG",
    "outputId": "eecc7527-b3df-4576-f931-881e198c2166"
   },
   "outputs": [
    {
     "data": {
      "text/plain": [
       "KMeans(n_clusters=7, random_state=1234)"
      ]
     },
     "execution_count": 43,
     "metadata": {},
     "output_type": "execute_result"
    }
   ],
   "source": [
    "kmeans = KMeans(n_clusters=7, random_state=1234)\n",
    "kmeans.fit(X)"
   ]
  },
  {
   "cell_type": "code",
   "execution_count": 44,
   "metadata": {},
   "outputs": [
    {
     "data": {
      "image/png": "[encoded data removed]",
      "text/plain": [
       "<Figure size 640x480 with 1 Axes>"
      ]
     },
     "metadata": {},
     "output_type": "display_data"
    }
   ],
   "source": [
    "# assign a cluster to each example\n",
    "labels = kmeans.predict(X)\n",
    "# retrieve unique clusters\n",
    "clusters = np.unique(labels)\n",
    "# create scatter plot for samples from each cluster\n",
    "for cluster in clusters:\n",
    "    # get row indexes for samples with this cluster\n",
    "    row_ix = np.where(labels == cluster)\n",
    "    # create scatter of these samples\n",
    "    pyplot.scatter(X.to_numpy()[row_ix, 1], X.to_numpy()[row_ix, 3])\n",
    "    # show the plot\n",
    "pyplot.show()"
   ]
  },
  {
   "cell_type": "markdown",
   "metadata": {
    "id": "27Ab6CkAhoOT"
   },
   "source": [
    "Now we have our \"model\", let's get the clusters and how many observations has each cluster."
   ]
  },
  {
   "cell_type": "code",
   "execution_count": 46,
   "metadata": {
    "colab": {
     "base_uri": "https://localhost:8080/"
    },
    "executionInfo": {
     "elapsed": 280,
     "status": "ok",
     "timestamp": 1623848518689,
     "user": {
      "displayName": "Ignacio Soteras",
      "photoUrl": "",
      "userId": "02050793736257155229"
     },
     "user_tz": -120
    },
    "id": "jHfWQSmth9yR",
    "outputId": "d952adf3-9ced-4a61-dc93-14ed804a4fe1"
   },
   "outputs": [
    {
     "data": {
      "text/plain": [
       "0    1648\n",
       "1    2596\n",
       "2    1124\n",
       "3     888\n",
       "4     751\n",
       "5    3330\n",
       "6    2720\n",
       "dtype: int64"
      ]
     },
     "execution_count": 46,
     "metadata": {},
     "output_type": "execute_result"
    }
   ],
   "source": [
    "clusters = kmeans.predict(X)\n",
    "#clusters\n",
    "pd.Series(clusters).value_counts().sort_index()"
   ]
  },
  {
   "cell_type": "markdown",
   "metadata": {
    "id": "R7K3uJuPimcS"
   },
   "source": [
    "Now let's see to which group was assigned every song."
   ]
  },
  {
   "cell_type": "code",
   "execution_count": 47,
   "metadata": {
    "colab": {
     "base_uri": "https://localhost:8080/",
     "height": 225
    },
    "executionInfo": {
     "elapsed": 234,
     "status": "ok",
     "timestamp": 1623848601645,
     "user": {
      "displayName": "Ignacio Soteras",
      "photoUrl": "",
      "userId": "02050793736257155229"
     },
     "user_tz": -120
    },
    "id": "RmWPL4DjiyIP",
    "outputId": "b1a15218-8112-4e6f-c87a-f6e4a972080d"
   },
   "outputs": [],
   "source": [
    "#X_df = pd.DataFrame(X)\n",
    "df[\"cluster\"] = clusters"
   ]
  },
  {
   "cell_type": "code",
   "execution_count": 48,
   "metadata": {},
   "outputs": [
    {
     "data": {
      "text/html": [
       "<div>\n",
       "<style scoped>\n",
       "    .dataframe tbody tr th:only-of-type {\n",
       "        vertical-align: middle;\n",
       "    }\n",
       "\n",
       "    .dataframe tbody tr th {\n",
       "        vertical-align: top;\n",
       "    }\n",
       "\n",
       "    .dataframe thead th {\n",
       "        text-align: right;\n",
       "    }\n",
       "</style>\n",
       "<table border=\"1\" class=\"dataframe\">\n",
       "  <thead>\n",
       "    <tr style=\"text-align: right;\">\n",
       "      <th></th>\n",
       "      <th>danceability</th>\n",
       "      <th>energy</th>\n",
       "      <th>key</th>\n",
       "      <th>loudness</th>\n",
       "      <th>mode</th>\n",
       "      <th>speechiness</th>\n",
       "      <th>acousticness</th>\n",
       "      <th>instrumentalness</th>\n",
       "      <th>liveness</th>\n",
       "      <th>valence</th>\n",
       "      <th>tempo</th>\n",
       "      <th>id</th>\n",
       "      <th>duration_ms</th>\n",
       "      <th>time_signature</th>\n",
       "      <th>cluster</th>\n",
       "    </tr>\n",
       "  </thead>\n",
       "  <tbody>\n",
       "    <tr>\n",
       "      <th>0</th>\n",
       "      <td>0.696</td>\n",
       "      <td>0.8090</td>\n",
       "      <td>5</td>\n",
       "      <td>-8.254</td>\n",
       "      <td>1</td>\n",
       "      <td>0.0500</td>\n",
       "      <td>0.2520</td>\n",
       "      <td>0.000128</td>\n",
       "      <td>0.2480</td>\n",
       "      <td>0.8570</td>\n",
       "      <td>132.962</td>\n",
       "      <td>6AQbmUe0Qwf5PZnt4HmTXv</td>\n",
       "      <td>131013</td>\n",
       "      <td>4</td>\n",
       "      <td>6</td>\n",
       "    </tr>\n",
       "    <tr>\n",
       "      <th>1</th>\n",
       "      <td>0.707</td>\n",
       "      <td>0.6810</td>\n",
       "      <td>0</td>\n",
       "      <td>-4.325</td>\n",
       "      <td>1</td>\n",
       "      <td>0.0668</td>\n",
       "      <td>0.0632</td>\n",
       "      <td>0.000005</td>\n",
       "      <td>0.0322</td>\n",
       "      <td>0.6460</td>\n",
       "      <td>117.999</td>\n",
       "      <td>0yLdNVWF3Srea0uzk55zFn</td>\n",
       "      <td>200455</td>\n",
       "      <td>4</td>\n",
       "      <td>1</td>\n",
       "    </tr>\n",
       "    <tr>\n",
       "      <th>2</th>\n",
       "      <td>0.644</td>\n",
       "      <td>0.7350</td>\n",
       "      <td>8</td>\n",
       "      <td>-5.747</td>\n",
       "      <td>1</td>\n",
       "      <td>0.0391</td>\n",
       "      <td>0.0521</td>\n",
       "      <td>0.144000</td>\n",
       "      <td>0.1610</td>\n",
       "      <td>0.4180</td>\n",
       "      <td>88.980</td>\n",
       "      <td>1Qrg8KqiBpW07V7PNxwwwL</td>\n",
       "      <td>153947</td>\n",
       "      <td>4</td>\n",
       "      <td>6</td>\n",
       "    </tr>\n",
       "    <tr>\n",
       "      <th>3</th>\n",
       "      <td>0.538</td>\n",
       "      <td>0.7420</td>\n",
       "      <td>2</td>\n",
       "      <td>-5.355</td>\n",
       "      <td>1</td>\n",
       "      <td>0.1140</td>\n",
       "      <td>0.1380</td>\n",
       "      <td>0.000047</td>\n",
       "      <td>0.0934</td>\n",
       "      <td>0.2500</td>\n",
       "      <td>96.107</td>\n",
       "      <td>5Z2MiIZ5I3jJvvmeWMLbOQ</td>\n",
       "      <td>272373</td>\n",
       "      <td>4</td>\n",
       "      <td>1</td>\n",
       "    </tr>\n",
       "    <tr>\n",
       "      <th>4</th>\n",
       "      <td>0.715</td>\n",
       "      <td>0.6200</td>\n",
       "      <td>1</td>\n",
       "      <td>-6.005</td>\n",
       "      <td>0</td>\n",
       "      <td>0.0484</td>\n",
       "      <td>0.4170</td>\n",
       "      <td>0.000000</td>\n",
       "      <td>0.0822</td>\n",
       "      <td>0.1720</td>\n",
       "      <td>97.950</td>\n",
       "      <td>2dHHgzDwk4BJdRwy9uXhTO</td>\n",
       "      <td>221520</td>\n",
       "      <td>4</td>\n",
       "      <td>5</td>\n",
       "    </tr>\n",
       "    <tr>\n",
       "      <th>...</th>\n",
       "      <td>...</td>\n",
       "      <td>...</td>\n",
       "      <td>...</td>\n",
       "      <td>...</td>\n",
       "      <td>...</td>\n",
       "      <td>...</td>\n",
       "      <td>...</td>\n",
       "      <td>...</td>\n",
       "      <td>...</td>\n",
       "      <td>...</td>\n",
       "      <td>...</td>\n",
       "      <td>...</td>\n",
       "      <td>...</td>\n",
       "      <td>...</td>\n",
       "      <td>...</td>\n",
       "    </tr>\n",
       "    <tr>\n",
       "      <th>13052</th>\n",
       "      <td>0.261</td>\n",
       "      <td>0.0585</td>\n",
       "      <td>5</td>\n",
       "      <td>-22.054</td>\n",
       "      <td>0</td>\n",
       "      <td>0.0473</td>\n",
       "      <td>0.9870</td>\n",
       "      <td>0.872000</td>\n",
       "      <td>0.0887</td>\n",
       "      <td>0.1380</td>\n",
       "      <td>67.242</td>\n",
       "      <td>2IAnU53rak76TpGpA515Xl</td>\n",
       "      <td>439213</td>\n",
       "      <td>4</td>\n",
       "      <td>0</td>\n",
       "    </tr>\n",
       "    <tr>\n",
       "      <th>13053</th>\n",
       "      <td>0.322</td>\n",
       "      <td>0.1290</td>\n",
       "      <td>1</td>\n",
       "      <td>-20.671</td>\n",
       "      <td>1</td>\n",
       "      <td>0.0437</td>\n",
       "      <td>0.9920</td>\n",
       "      <td>0.003620</td>\n",
       "      <td>0.1010</td>\n",
       "      <td>0.0449</td>\n",
       "      <td>129.018</td>\n",
       "      <td>4zPZbj1sNxCOtU1CdgCK53</td>\n",
       "      <td>260187</td>\n",
       "      <td>4</td>\n",
       "      <td>0</td>\n",
       "    </tr>\n",
       "    <tr>\n",
       "      <th>13054</th>\n",
       "      <td>0.311</td>\n",
       "      <td>0.1580</td>\n",
       "      <td>10</td>\n",
       "      <td>-16.724</td>\n",
       "      <td>1</td>\n",
       "      <td>0.0380</td>\n",
       "      <td>0.9690</td>\n",
       "      <td>0.901000</td>\n",
       "      <td>0.2400</td>\n",
       "      <td>0.1700</td>\n",
       "      <td>96.367</td>\n",
       "      <td>2qYu0I9yKKpGnbySmN6w3K</td>\n",
       "      <td>427653</td>\n",
       "      <td>4</td>\n",
       "      <td>0</td>\n",
       "    </tr>\n",
       "    <tr>\n",
       "      <th>13055</th>\n",
       "      <td>0.456</td>\n",
       "      <td>0.1090</td>\n",
       "      <td>10</td>\n",
       "      <td>-20.268</td>\n",
       "      <td>1</td>\n",
       "      <td>0.0604</td>\n",
       "      <td>0.9940</td>\n",
       "      <td>0.000266</td>\n",
       "      <td>0.0836</td>\n",
       "      <td>0.2400</td>\n",
       "      <td>68.848</td>\n",
       "      <td>1xU1yjwGAGCCE3RiB8YKLe</td>\n",
       "      <td>201640</td>\n",
       "      <td>5</td>\n",
       "      <td>0</td>\n",
       "    </tr>\n",
       "    <tr>\n",
       "      <th>13056</th>\n",
       "      <td>0.362</td>\n",
       "      <td>0.0617</td>\n",
       "      <td>7</td>\n",
       "      <td>-24.588</td>\n",
       "      <td>1</td>\n",
       "      <td>0.0379</td>\n",
       "      <td>0.9910</td>\n",
       "      <td>0.916000</td>\n",
       "      <td>0.1710</td>\n",
       "      <td>0.3920</td>\n",
       "      <td>93.635</td>\n",
       "      <td>4j8lYY8CxTPkY2DLLQT4hy</td>\n",
       "      <td>234987</td>\n",
       "      <td>4</td>\n",
       "      <td>0</td>\n",
       "    </tr>\n",
       "  </tbody>\n",
       "</table>\n",
       "<p>13057 rows × 15 columns</p>\n",
       "</div>"
      ],
      "text/plain": [
       "       danceability  energy  key  loudness  mode  speechiness  acousticness  \\\n",
       "0             0.696  0.8090    5    -8.254     1       0.0500        0.2520   \n",
       "1             0.707  0.6810    0    -4.325     1       0.0668        0.0632   \n",
       "2             0.644  0.7350    8    -5.747     1       0.0391        0.0521   \n",
       "3             0.538  0.7420    2    -5.355     1       0.1140        0.1380   \n",
       "4             0.715  0.6200    1    -6.005     0       0.0484        0.4170   \n",
       "...             ...     ...  ...       ...   ...          ...           ...   \n",
       "13052         0.261  0.0585    5   -22.054     0       0.0473        0.9870   \n",
       "13053         0.322  0.1290    1   -20.671     1       0.0437        0.9920   \n",
       "13054         0.311  0.1580   10   -16.724     1       0.0380        0.9690   \n",
       "13055         0.456  0.1090   10   -20.268     1       0.0604        0.9940   \n",
       "13056         0.362  0.0617    7   -24.588     1       0.0379        0.9910   \n",
       "\n",
       "       instrumentalness  liveness  valence    tempo                      id  \\\n",
       "0              0.000128    0.2480   0.8570  132.962  6AQbmUe0Qwf5PZnt4HmTXv   \n",
       "1              0.000005    0.0322   0.6460  117.999  0yLdNVWF3Srea0uzk55zFn   \n",
       "2              0.144000    0.1610   0.4180   88.980  1Qrg8KqiBpW07V7PNxwwwL   \n",
       "3              0.000047    0.0934   0.2500   96.107  5Z2MiIZ5I3jJvvmeWMLbOQ   \n",
       "4              0.000000    0.0822   0.1720   97.950  2dHHgzDwk4BJdRwy9uXhTO   \n",
       "...                 ...       ...      ...      ...                     ...   \n",
       "13052          0.872000    0.0887   0.1380   67.242  2IAnU53rak76TpGpA515Xl   \n",
       "13053          0.003620    0.1010   0.0449  129.018  4zPZbj1sNxCOtU1CdgCK53   \n",
       "13054          0.901000    0.2400   0.1700   96.367  2qYu0I9yKKpGnbySmN6w3K   \n",
       "13055          0.000266    0.0836   0.2400   68.848  1xU1yjwGAGCCE3RiB8YKLe   \n",
       "13056          0.916000    0.1710   0.3920   93.635  4j8lYY8CxTPkY2DLLQT4hy   \n",
       "\n",
       "       duration_ms  time_signature  cluster  \n",
       "0           131013               4        6  \n",
       "1           200455               4        1  \n",
       "2           153947               4        6  \n",
       "3           272373               4        1  \n",
       "4           221520               4        5  \n",
       "...            ...             ...      ...  \n",
       "13052       439213               4        0  \n",
       "13053       260187               4        0  \n",
       "13054       427653               4        0  \n",
       "13055       201640               5        0  \n",
       "13056       234987               4        0  \n",
       "\n",
       "[13057 rows x 15 columns]"
      ]
     },
     "execution_count": 48,
     "metadata": {},
     "output_type": "execute_result"
    }
   ],
   "source": [
    "df"
   ]
  },
  {
   "cell_type": "markdown",
   "metadata": {
    "id": "3NkfqPiJjb76"
   },
   "source": [
    "## Playing with the parameters"
   ]
  },
  {
   "cell_type": "code",
   "execution_count": 49,
   "metadata": {
    "colab": {
     "base_uri": "https://localhost:8080/"
    },
    "executionInfo": {
     "elapsed": 228,
     "status": "ok",
     "timestamp": 1623848859464,
     "user": {
      "displayName": "Ignacio Soteras",
      "photoUrl": "",
      "userId": "02050793736257155229"
     },
     "user_tz": -120
    },
    "id": "IfB_M6fgkYrO",
    "outputId": "f7437ec0-2b22-4f65-ee9d-6e1efec6eda0"
   },
   "outputs": [
    {
     "data": {
      "text/plain": [
       "58301.20302801356"
      ]
     },
     "execution_count": 49,
     "metadata": {},
     "output_type": "execute_result"
    }
   ],
   "source": [
    "kmeans.inertia_"
   ]
  },
  {
   "cell_type": "markdown",
   "metadata": {
    "id": "rQ7S4T2TtKz1"
   },
   "source": [
    "# Saving with pickle"
   ]
  },
  {
   "cell_type": "code",
   "execution_count": 35,
   "metadata": {},
   "outputs": [],
   "source": [
    "df.to_csv('test_PCA.csv', index=False)"
   ]
  },
  {
   "cell_type": "code",
   "execution_count": 36,
   "metadata": {
    "executionInfo": {
     "elapsed": 432,
     "status": "ok",
     "timestamp": 1623850976766,
     "user": {
      "displayName": "Ignacio Soteras",
      "photoUrl": "",
      "userId": "02050793736257155229"
     },
     "user_tz": -120
    },
    "id": "w0DBvROTtNRZ"
   },
   "outputs": [],
   "source": [
    "# Save both objects together\n",
    "with open(\"test_PCA.pkl\", \"wb\") as f:\n",
    "    pickle.dump((scaler, kmeans, pca), f)"
   ]
  },
  {
   "cell_type": "code",
   "execution_count": null,
   "metadata": {},
   "outputs": [],
   "source": []
  }
 ],
 "metadata": {
  "colab": {
   "name": "code_along_KMeans_structure.ipynb",
   "provenance": []
  },
  "kernelspec": {
   "display_name": "Python 3 (ipykernel)",
   "language": "python",
   "name": "python3"
  },
  "language_info": {
   "codemirror_mode": {
    "name": "ipython",
    "version": 3
   },
   "file_extension": ".py",
   "mimetype": "text/x-python",
   "name": "python",
   "nbconvert_exporter": "python",
   "pygments_lexer": "ipython3",
   "version": "3.9.13"
  },
  "toc": {
   "base_numbering": 1,
   "nav_menu": {},
   "number_sections": true,
   "sideBar": true,
   "skip_h1_title": false,
   "title_cell": "Table of Contents",
   "title_sidebar": "Contents",
   "toc_cell": false,
   "toc_position": {},
   "toc_section_display": true,
   "toc_window_display": false
  }
 },
 "nbformat": 4,
 "nbformat_minor": 1
}
