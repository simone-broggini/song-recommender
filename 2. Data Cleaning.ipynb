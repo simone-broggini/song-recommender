{
 "cells": [
  {
   "cell_type": "markdown",
   "metadata": {
    "id": "fnhh4ayEOKz4"
   },
   "source": [
    "## importing libraries"
   ]
  },
  {
   "cell_type": "code",
   "execution_count": 1,
   "metadata": {
    "ExecuteTime": {
     "end_time": "2022-11-23T08:53:19.773334Z",
     "start_time": "2022-11-23T08:53:19.511876Z"
    },
    "colab": {
     "base_uri": "https://localhost:8080/"
    },
    "executionInfo": {
     "elapsed": 23559,
     "status": "ok",
     "timestamp": 1623745938174,
     "user": {
      "displayName": "Ignacio Soteras",
      "photoUrl": "",
      "userId": "02050793736257155229"
     },
     "user_tz": -120
    },
    "id": "5j1kqPOoN_I5",
    "outputId": "23c4b5dd-b94b-425d-e2b9-e5647cb055df"
   },
   "outputs": [],
   "source": [
    "import pandas as pd\n",
    "import numpy as np \n",
    "import seaborn as sns"
   ]
  },
  {
   "cell_type": "markdown",
   "metadata": {},
   "source": [
    "## Load the dataframe and remove duplicates"
   ]
  },
  {
   "cell_type": "code",
   "execution_count": 2,
   "metadata": {},
   "outputs": [],
   "source": [
    "df = pd.read_csv('Data/df_top_playlists_all.csv')"
   ]
  },
  {
   "cell_type": "code",
   "execution_count": 3,
   "metadata": {},
   "outputs": [],
   "source": [
    "df = df.drop_duplicates()"
   ]
  },
  {
   "cell_type": "code",
   "execution_count": 4,
   "metadata": {},
   "outputs": [],
   "source": [
    "df = df.reset_index(drop=True)"
   ]
  },
  {
   "cell_type": "markdown",
   "metadata": {},
   "source": [
    "## Remove unnecessary columns"
   ]
  },
  {
   "cell_type": "code",
   "execution_count": 5,
   "metadata": {},
   "outputs": [],
   "source": [
    "df = df.drop(columns=['type','uri','track_href','analysis_url'])"
   ]
  },
  {
   "cell_type": "markdown",
   "metadata": {},
   "source": [
    "## Cleaned Dataframe"
   ]
  },
  {
   "cell_type": "code",
   "execution_count": 6,
   "metadata": {},
   "outputs": [
    {
     "data": {
      "text/html": [
       "<div>\n",
       "<style scoped>\n",
       "    .dataframe tbody tr th:only-of-type {\n",
       "        vertical-align: middle;\n",
       "    }\n",
       "\n",
       "    .dataframe tbody tr th {\n",
       "        vertical-align: top;\n",
       "    }\n",
       "\n",
       "    .dataframe thead th {\n",
       "        text-align: right;\n",
       "    }\n",
       "</style>\n",
       "<table border=\"1\" class=\"dataframe\">\n",
       "  <thead>\n",
       "    <tr style=\"text-align: right;\">\n",
       "      <th></th>\n",
       "      <th>danceability</th>\n",
       "      <th>energy</th>\n",
       "      <th>key</th>\n",
       "      <th>loudness</th>\n",
       "      <th>mode</th>\n",
       "      <th>speechiness</th>\n",
       "      <th>acousticness</th>\n",
       "      <th>instrumentalness</th>\n",
       "      <th>liveness</th>\n",
       "      <th>valence</th>\n",
       "      <th>tempo</th>\n",
       "      <th>id</th>\n",
       "      <th>duration_ms</th>\n",
       "      <th>time_signature</th>\n",
       "    </tr>\n",
       "  </thead>\n",
       "  <tbody>\n",
       "    <tr>\n",
       "      <th>0</th>\n",
       "      <td>0.696</td>\n",
       "      <td>0.8090</td>\n",
       "      <td>5</td>\n",
       "      <td>-8.254</td>\n",
       "      <td>1</td>\n",
       "      <td>0.0500</td>\n",
       "      <td>0.2520</td>\n",
       "      <td>0.000128</td>\n",
       "      <td>0.2480</td>\n",
       "      <td>0.8570</td>\n",
       "      <td>132.962</td>\n",
       "      <td>6AQbmUe0Qwf5PZnt4HmTXv</td>\n",
       "      <td>131013</td>\n",
       "      <td>4</td>\n",
       "    </tr>\n",
       "    <tr>\n",
       "      <th>1</th>\n",
       "      <td>0.707</td>\n",
       "      <td>0.6810</td>\n",
       "      <td>0</td>\n",
       "      <td>-4.325</td>\n",
       "      <td>1</td>\n",
       "      <td>0.0668</td>\n",
       "      <td>0.0632</td>\n",
       "      <td>0.000005</td>\n",
       "      <td>0.0322</td>\n",
       "      <td>0.6460</td>\n",
       "      <td>117.999</td>\n",
       "      <td>0yLdNVWF3Srea0uzk55zFn</td>\n",
       "      <td>200455</td>\n",
       "      <td>4</td>\n",
       "    </tr>\n",
       "    <tr>\n",
       "      <th>2</th>\n",
       "      <td>0.644</td>\n",
       "      <td>0.7350</td>\n",
       "      <td>8</td>\n",
       "      <td>-5.747</td>\n",
       "      <td>1</td>\n",
       "      <td>0.0391</td>\n",
       "      <td>0.0521</td>\n",
       "      <td>0.144000</td>\n",
       "      <td>0.1610</td>\n",
       "      <td>0.4180</td>\n",
       "      <td>88.980</td>\n",
       "      <td>1Qrg8KqiBpW07V7PNxwwwL</td>\n",
       "      <td>153947</td>\n",
       "      <td>4</td>\n",
       "    </tr>\n",
       "    <tr>\n",
       "      <th>3</th>\n",
       "      <td>0.538</td>\n",
       "      <td>0.7420</td>\n",
       "      <td>2</td>\n",
       "      <td>-5.355</td>\n",
       "      <td>1</td>\n",
       "      <td>0.1140</td>\n",
       "      <td>0.1380</td>\n",
       "      <td>0.000047</td>\n",
       "      <td>0.0934</td>\n",
       "      <td>0.2500</td>\n",
       "      <td>96.107</td>\n",
       "      <td>5Z2MiIZ5I3jJvvmeWMLbOQ</td>\n",
       "      <td>272373</td>\n",
       "      <td>4</td>\n",
       "    </tr>\n",
       "    <tr>\n",
       "      <th>4</th>\n",
       "      <td>0.715</td>\n",
       "      <td>0.6200</td>\n",
       "      <td>1</td>\n",
       "      <td>-6.005</td>\n",
       "      <td>0</td>\n",
       "      <td>0.0484</td>\n",
       "      <td>0.4170</td>\n",
       "      <td>0.000000</td>\n",
       "      <td>0.0822</td>\n",
       "      <td>0.1720</td>\n",
       "      <td>97.950</td>\n",
       "      <td>2dHHgzDwk4BJdRwy9uXhTO</td>\n",
       "      <td>221520</td>\n",
       "      <td>4</td>\n",
       "    </tr>\n",
       "    <tr>\n",
       "      <th>...</th>\n",
       "      <td>...</td>\n",
       "      <td>...</td>\n",
       "      <td>...</td>\n",
       "      <td>...</td>\n",
       "      <td>...</td>\n",
       "      <td>...</td>\n",
       "      <td>...</td>\n",
       "      <td>...</td>\n",
       "      <td>...</td>\n",
       "      <td>...</td>\n",
       "      <td>...</td>\n",
       "      <td>...</td>\n",
       "      <td>...</td>\n",
       "      <td>...</td>\n",
       "    </tr>\n",
       "    <tr>\n",
       "      <th>13052</th>\n",
       "      <td>0.261</td>\n",
       "      <td>0.0585</td>\n",
       "      <td>5</td>\n",
       "      <td>-22.054</td>\n",
       "      <td>0</td>\n",
       "      <td>0.0473</td>\n",
       "      <td>0.9870</td>\n",
       "      <td>0.872000</td>\n",
       "      <td>0.0887</td>\n",
       "      <td>0.1380</td>\n",
       "      <td>67.242</td>\n",
       "      <td>2IAnU53rak76TpGpA515Xl</td>\n",
       "      <td>439213</td>\n",
       "      <td>4</td>\n",
       "    </tr>\n",
       "    <tr>\n",
       "      <th>13053</th>\n",
       "      <td>0.322</td>\n",
       "      <td>0.1290</td>\n",
       "      <td>1</td>\n",
       "      <td>-20.671</td>\n",
       "      <td>1</td>\n",
       "      <td>0.0437</td>\n",
       "      <td>0.9920</td>\n",
       "      <td>0.003620</td>\n",
       "      <td>0.1010</td>\n",
       "      <td>0.0449</td>\n",
       "      <td>129.018</td>\n",
       "      <td>4zPZbj1sNxCOtU1CdgCK53</td>\n",
       "      <td>260187</td>\n",
       "      <td>4</td>\n",
       "    </tr>\n",
       "    <tr>\n",
       "      <th>13054</th>\n",
       "      <td>0.311</td>\n",
       "      <td>0.1580</td>\n",
       "      <td>10</td>\n",
       "      <td>-16.724</td>\n",
       "      <td>1</td>\n",
       "      <td>0.0380</td>\n",
       "      <td>0.9690</td>\n",
       "      <td>0.901000</td>\n",
       "      <td>0.2400</td>\n",
       "      <td>0.1700</td>\n",
       "      <td>96.367</td>\n",
       "      <td>2qYu0I9yKKpGnbySmN6w3K</td>\n",
       "      <td>427653</td>\n",
       "      <td>4</td>\n",
       "    </tr>\n",
       "    <tr>\n",
       "      <th>13055</th>\n",
       "      <td>0.456</td>\n",
       "      <td>0.1090</td>\n",
       "      <td>10</td>\n",
       "      <td>-20.268</td>\n",
       "      <td>1</td>\n",
       "      <td>0.0604</td>\n",
       "      <td>0.9940</td>\n",
       "      <td>0.000266</td>\n",
       "      <td>0.0836</td>\n",
       "      <td>0.2400</td>\n",
       "      <td>68.848</td>\n",
       "      <td>1xU1yjwGAGCCE3RiB8YKLe</td>\n",
       "      <td>201640</td>\n",
       "      <td>5</td>\n",
       "    </tr>\n",
       "    <tr>\n",
       "      <th>13056</th>\n",
       "      <td>0.362</td>\n",
       "      <td>0.0617</td>\n",
       "      <td>7</td>\n",
       "      <td>-24.588</td>\n",
       "      <td>1</td>\n",
       "      <td>0.0379</td>\n",
       "      <td>0.9910</td>\n",
       "      <td>0.916000</td>\n",
       "      <td>0.1710</td>\n",
       "      <td>0.3920</td>\n",
       "      <td>93.635</td>\n",
       "      <td>4j8lYY8CxTPkY2DLLQT4hy</td>\n",
       "      <td>234987</td>\n",
       "      <td>4</td>\n",
       "    </tr>\n",
       "  </tbody>\n",
       "</table>\n",
       "<p>13057 rows × 14 columns</p>\n",
       "</div>"
      ],
      "text/plain": [
       "       danceability  energy  key  loudness  mode  speechiness  acousticness  \\\n",
       "0             0.696  0.8090    5    -8.254     1       0.0500        0.2520   \n",
       "1             0.707  0.6810    0    -4.325     1       0.0668        0.0632   \n",
       "2             0.644  0.7350    8    -5.747     1       0.0391        0.0521   \n",
       "3             0.538  0.7420    2    -5.355     1       0.1140        0.1380   \n",
       "4             0.715  0.6200    1    -6.005     0       0.0484        0.4170   \n",
       "...             ...     ...  ...       ...   ...          ...           ...   \n",
       "13052         0.261  0.0585    5   -22.054     0       0.0473        0.9870   \n",
       "13053         0.322  0.1290    1   -20.671     1       0.0437        0.9920   \n",
       "13054         0.311  0.1580   10   -16.724     1       0.0380        0.9690   \n",
       "13055         0.456  0.1090   10   -20.268     1       0.0604        0.9940   \n",
       "13056         0.362  0.0617    7   -24.588     1       0.0379        0.9910   \n",
       "\n",
       "       instrumentalness  liveness  valence    tempo                      id  \\\n",
       "0              0.000128    0.2480   0.8570  132.962  6AQbmUe0Qwf5PZnt4HmTXv   \n",
       "1              0.000005    0.0322   0.6460  117.999  0yLdNVWF3Srea0uzk55zFn   \n",
       "2              0.144000    0.1610   0.4180   88.980  1Qrg8KqiBpW07V7PNxwwwL   \n",
       "3              0.000047    0.0934   0.2500   96.107  5Z2MiIZ5I3jJvvmeWMLbOQ   \n",
       "4              0.000000    0.0822   0.1720   97.950  2dHHgzDwk4BJdRwy9uXhTO   \n",
       "...                 ...       ...      ...      ...                     ...   \n",
       "13052          0.872000    0.0887   0.1380   67.242  2IAnU53rak76TpGpA515Xl   \n",
       "13053          0.003620    0.1010   0.0449  129.018  4zPZbj1sNxCOtU1CdgCK53   \n",
       "13054          0.901000    0.2400   0.1700   96.367  2qYu0I9yKKpGnbySmN6w3K   \n",
       "13055          0.000266    0.0836   0.2400   68.848  1xU1yjwGAGCCE3RiB8YKLe   \n",
       "13056          0.916000    0.1710   0.3920   93.635  4j8lYY8CxTPkY2DLLQT4hy   \n",
       "\n",
       "       duration_ms  time_signature  \n",
       "0           131013               4  \n",
       "1           200455               4  \n",
       "2           153947               4  \n",
       "3           272373               4  \n",
       "4           221520               4  \n",
       "...            ...             ...  \n",
       "13052       439213               4  \n",
       "13053       260187               4  \n",
       "13054       427653               4  \n",
       "13055       201640               5  \n",
       "13056       234987               4  \n",
       "\n",
       "[13057 rows x 14 columns]"
      ]
     },
     "execution_count": 6,
     "metadata": {},
     "output_type": "execute_result"
    }
   ],
   "source": [
    "df"
   ]
  },
  {
   "cell_type": "code",
   "execution_count": 7,
   "metadata": {},
   "outputs": [],
   "source": [
    "df.to_csv('Data/df_cleaned.csv', index=False)"
   ]
  }
 ],
 "metadata": {
  "colab": {
   "authorship_tag": "ABX9TyPVWC1t3Am5oxfsHrz0cF36",
   "mount_file_id": "1f3HsS5F0GzS75tlHyrwhBGlTWbE0nG4o",
   "name": "Code_along_Spotify_structure.ipynb",
   "provenance": []
  },
  "kernelspec": {
   "display_name": "Python 3 (ipykernel)",
   "language": "python",
   "name": "python3"
  },
  "language_info": {
   "codemirror_mode": {
    "name": "ipython",
    "version": 3
   },
   "file_extension": ".py",
   "mimetype": "text/x-python",
   "name": "python",
   "nbconvert_exporter": "python",
   "pygments_lexer": "ipython3",
   "version": "3.9.13"
  },
  "toc": {
   "base_numbering": 1,
   "nav_menu": {},
   "number_sections": true,
   "sideBar": true,
   "skip_h1_title": false,
   "title_cell": "Table of Contents",
   "title_sidebar": "Contents",
   "toc_cell": false,
   "toc_position": {},
   "toc_section_display": true,
   "toc_window_display": false
  },
  "varInspector": {
   "cols": {
    "lenName": 16,
    "lenType": 16,
    "lenVar": 40
   },
   "kernels_config": {
    "python": {
     "delete_cmd_postfix": "",
     "delete_cmd_prefix": "del ",
     "library": "var_list.py",
     "varRefreshCmd": "print(var_dic_list())"
    },
    "r": {
     "delete_cmd_postfix": ") ",
     "delete_cmd_prefix": "rm(",
     "library": "var_list.r",
     "varRefreshCmd": "cat(var_dic_list()) "
    }
   },
   "types_to_exclude": [
    "module",
    "function",
    "builtin_function_or_method",
    "instance",
    "_Feature"
   ],
   "window_display": false
  }
 },
 "nbformat": 4,
 "nbformat_minor": 1
}
